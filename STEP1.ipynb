{
 "cells": [
  {
   "cell_type": "markdown",
   "metadata": {},
   "source": [
    "# Parsing the News Headlines"
   ]
  },
  {
   "cell_type": "markdown",
   "metadata": {},
   "source": [
    "Objective\n",
    "\n",
    " - Find any city and/or country names mentioned in each of the news headlines."
   ]
  },
  {
   "cell_type": "markdown",
   "metadata": {},
   "source": [
    "Project outline\n",
    "The project is broken into five parts.\n",
    "\n",
    "1. Extracting City and Country Information from News Headlines\n",
    "\n",
    "2. Finding Geographic Locations of Headlines\n",
    "\n",
    "3. Clustering Headlines Based on Location\n",
    "\n",
    "4. Identifying Disease Outbreaks\n",
    "\n",
    "5. Presenting the Disease Outbreak Data\n",
    "\n",
    "The skills covered in order are the following: text extraction, data manipulation, clustering, interpreting algorithm outputs, and producing an actionable report. The deliverable from each part is a Jupyter notebook (preferably on GitHub) documenting your workflow and results. The final milestone will be a notebook converted to html or a PDF to share the conclusions with your superiors at the WHO. Each section builds upon the previous and will test your skills in a different area of data science. As you go through the project, keep in mind the overall objective: to identify disease outbreaks around the world. The project is representative of the problems solved by data scientists in industry or academia and utilizes the most popular tools for data science in Python."
   ]
  },
  {
   "cell_type": "code",
   "execution_count": 1,
   "metadata": {},
   "outputs": [],
   "source": [
    "import pandas as pd\n",
    "import numpy as np"
   ]
  },
  {
   "cell_type": "code",
   "execution_count": 2,
   "metadata": {},
   "outputs": [],
   "source": [
    "headlines = pd.read_csv('discovering-disease-outbreaks-base/data/headlines.txt',\n",
    "                        header=None, \n",
    "                        delimiter='\\n',\n",
    "                        names=['Headlines'])"
   ]
  },
  {
   "cell_type": "code",
   "execution_count": 11,
   "metadata": {},
   "outputs": [
    {
     "data": {
      "text/html": [
       "<div>\n",
       "<style scoped>\n",
       "    .dataframe tbody tr th:only-of-type {\n",
       "        vertical-align: middle;\n",
       "    }\n",
       "\n",
       "    .dataframe tbody tr th {\n",
       "        vertical-align: top;\n",
       "    }\n",
       "\n",
       "    .dataframe thead th {\n",
       "        text-align: right;\n",
       "    }\n",
       "</style>\n",
       "<table border=\"1\" class=\"dataframe\">\n",
       "  <thead>\n",
       "    <tr style=\"text-align: right;\">\n",
       "      <th></th>\n",
       "      <th>Headlines</th>\n",
       "    </tr>\n",
       "  </thead>\n",
       "  <tbody>\n",
       "    <tr>\n",
       "      <th>562</th>\n",
       "      <td>Hepatitis D Symptoms Spread all over Evansville</td>\n",
       "    </tr>\n",
       "    <tr>\n",
       "      <th>644</th>\n",
       "      <td>Influenza Exposure in Muscat</td>\n",
       "    </tr>\n",
       "    <tr>\n",
       "      <th>403</th>\n",
       "      <td>Huzhou Residents Receive Hepatitis B vaccine</td>\n",
       "    </tr>\n",
       "    <tr>\n",
       "      <th>40</th>\n",
       "      <td>Hepatitis E re-emerges in Santa Rosa</td>\n",
       "    </tr>\n",
       "    <tr>\n",
       "      <th>86</th>\n",
       "      <td>Visitor to Cucuta contracts Zika</td>\n",
       "    </tr>\n",
       "    <tr>\n",
       "      <th>83</th>\n",
       "      <td>Zika outbreak spreads to Mexico City</td>\n",
       "    </tr>\n",
       "    <tr>\n",
       "      <th>434</th>\n",
       "      <td>Case of Mad Cow Disease Reported in Hilden</td>\n",
       "    </tr>\n",
       "    <tr>\n",
       "      <th>169</th>\n",
       "      <td>Zika cases in Singapore reach 393</td>\n",
       "    </tr>\n",
       "    <tr>\n",
       "      <th>94</th>\n",
       "      <td>New Zika Case Confirmed in Belo Horizonte</td>\n",
       "    </tr>\n",
       "    <tr>\n",
       "      <th>603</th>\n",
       "      <td>More Patients in Kensington are Getting Diagno...</td>\n",
       "    </tr>\n",
       "    <tr>\n",
       "      <th>619</th>\n",
       "      <td>Zika Troubles come to Delray Beach</td>\n",
       "    </tr>\n",
       "    <tr>\n",
       "      <th>196</th>\n",
       "      <td>Zika case recorded in Tunapuna »</td>\n",
       "    </tr>\n",
       "    <tr>\n",
       "      <th>553</th>\n",
       "      <td>Pneumonia has not Left Kinshasa</td>\n",
       "    </tr>\n",
       "    <tr>\n",
       "      <th>51</th>\n",
       "      <td>Zika Virus Transmission Detected in Havana</td>\n",
       "    </tr>\n",
       "    <tr>\n",
       "      <th>246</th>\n",
       "      <td>Will Swine Flu vaccine help Ljubljana?</td>\n",
       "    </tr>\n",
       "    <tr>\n",
       "      <th>320</th>\n",
       "      <td>Chikungunya re-emerges in Kobe</td>\n",
       "    </tr>\n",
       "    <tr>\n",
       "      <th>87</th>\n",
       "      <td>Zika now spreading through Jakarta</td>\n",
       "    </tr>\n",
       "    <tr>\n",
       "      <th>577</th>\n",
       "      <td>West Nile Virus has Arrived in Dongguan</td>\n",
       "    </tr>\n",
       "    <tr>\n",
       "      <th>395</th>\n",
       "      <td>Herpes Vaccine is now Required in Mattoon</td>\n",
       "    </tr>\n",
       "    <tr>\n",
       "      <th>558</th>\n",
       "      <td>Ronkonkoma is infested with Chickenpox</td>\n",
       "    </tr>\n",
       "  </tbody>\n",
       "</table>\n",
       "</div>"
      ],
      "text/plain": [
       "                                             Headlines\n",
       "562    Hepatitis D Symptoms Spread all over Evansville\n",
       "644                       Influenza Exposure in Muscat\n",
       "403       Huzhou Residents Receive Hepatitis B vaccine\n",
       "40                Hepatitis E re-emerges in Santa Rosa\n",
       "86                    Visitor to Cucuta contracts Zika\n",
       "83                Zika outbreak spreads to Mexico City\n",
       "434         Case of Mad Cow Disease Reported in Hilden\n",
       "169                  Zika cases in Singapore reach 393\n",
       "94           New Zika Case Confirmed in Belo Horizonte\n",
       "603  More Patients in Kensington are Getting Diagno...\n",
       "619                 Zika Troubles come to Delray Beach\n",
       "196                   Zika case recorded in Tunapuna »\n",
       "553                    Pneumonia has not Left Kinshasa\n",
       "51          Zika Virus Transmission Detected in Havana\n",
       "246             Will Swine Flu vaccine help Ljubljana?\n",
       "320                     Chikungunya re-emerges in Kobe\n",
       "87                  Zika now spreading through Jakarta\n",
       "577            West Nile Virus has Arrived in Dongguan\n",
       "395          Herpes Vaccine is now Required in Mattoon\n",
       "558             Ronkonkoma is infested with Chickenpox"
      ]
     },
     "execution_count": 11,
     "metadata": {},
     "output_type": "execute_result"
    }
   ],
   "source": [
    "headlines.sample(20)"
   ]
  },
  {
   "cell_type": "code",
   "execution_count": 4,
   "metadata": {},
   "outputs": [
    {
     "name": "stdout",
     "output_type": "stream",
     "text": [
      "Number of headlines: 650\n"
     ]
    }
   ],
   "source": [
    "print(\"Number of headlines: {}\".format(headlines.shape[0]))"
   ]
  },
  {
   "cell_type": "code",
   "execution_count": 5,
   "metadata": {
    "scrolled": true
   },
   "outputs": [
    {
     "name": "stdout",
     "output_type": "stream",
     "text": [
      "Max lenght of headlines: 87\n",
      "Min lenght of headlines: 16\n",
      "Average lenght of headlines: 40.77\n"
     ]
    }
   ],
   "source": [
    "# Check some informations about headlines\n",
    "print(\"Max lenght of headlines: {}\".format(max([len(each[0]) for each in headlines.values])))\n",
    "print(\"Min lenght of headlines: {}\".format(min([len(each[0]) for each in headlines.values])))\n",
    "print(\"Average lenght of headlines: {:.2f}\".format(np.mean([len(each[0]) for each in headlines.values])))"
   ]
  },
  {
   "cell_type": "code",
   "execution_count": 6,
   "metadata": {},
   "outputs": [],
   "source": [
    "import re\n",
    "import geonamescache\n",
    "import unicodedata"
   ]
  },
  {
   "cell_type": "code",
   "execution_count": 153,
   "metadata": {},
   "outputs": [],
   "source": [
    "# Init geonamecashe instance\n",
    "gc = geonamescache.GeonamesCache()\n",
    "\n",
    "city_names = {'name': [], 'id':[]}\n",
    "for each in gc.get_cities().values():\n",
    "    city_names['name'].append(each['name'])\n",
    "    city_names['id'].append(str(each['geonameid']))"
   ]
  },
  {
   "cell_type": "code",
   "execution_count": 163,
   "metadata": {},
   "outputs": [],
   "source": [
    "def get_country_name_lat_long(country_name, idx):\n",
    "    city_name = gc.get_cities().get(city_names['id'][idx]).get('name')\n",
    "    country_code = gc.get_cities().get(city_names['id'][idx]).get('countrycode')\n",
    "    country = gc.get_countries().get(country_code).get('name') \n",
    "    lat = gc.get_cities().get(city_names['id'][idx]).get('latitude')\n",
    "    long = gc.get_cities().get(city_names['id'][idx]).get('longitude')\n",
    "    return city_name, country, lat, long\n",
    "    "
   ]
  },
  {
   "cell_type": "code",
   "execution_count": 164,
   "metadata": {},
   "outputs": [],
   "source": [
    "df_dict = {\"Headlines\":[],\"Cities\":[], \"Countries\":[], \"Latitude\":[], \"Longitude\":[]}"
   ]
  },
  {
   "cell_type": "code",
   "execution_count": 169,
   "metadata": {},
   "outputs": [],
   "source": [
    "for idx, regex in enumerate(city_names['name']):\n",
    "    for each in headlines.values[:10]:\n",
    "        if re.match((regex), each[0], flags=re.IGNORECASE):\n",
    "            city, country, lat, long = get_country_name_lat_long(regex, idx)\n",
    "            df_dict['Headlines'].append(each[0])\n",
    "            df_dict['Cities'].append(city)\n",
    "            df_dict['Countries'].append(country)\n",
    "            df_dict['Latitude'].append(lat)\n",
    "            df_dict['Longitude'].append(long)            "
   ]
  },
  {
   "cell_type": "code",
   "execution_count": 170,
   "metadata": {},
   "outputs": [
    {
     "data": {
      "text/html": [
       "<div>\n",
       "<style scoped>\n",
       "    .dataframe tbody tr th:only-of-type {\n",
       "        vertical-align: middle;\n",
       "    }\n",
       "\n",
       "    .dataframe tbody tr th {\n",
       "        vertical-align: top;\n",
       "    }\n",
       "\n",
       "    .dataframe thead th {\n",
       "        text-align: right;\n",
       "    }\n",
       "</style>\n",
       "<table border=\"1\" class=\"dataframe\">\n",
       "  <thead>\n",
       "    <tr style=\"text-align: right;\">\n",
       "      <th></th>\n",
       "      <th>Headlines</th>\n",
       "      <th>Cities</th>\n",
       "      <th>Countries</th>\n",
       "      <th>Latitude</th>\n",
       "      <th>Longitude</th>\n",
       "    </tr>\n",
       "  </thead>\n",
       "  <tbody>\n",
       "    <tr>\n",
       "      <th>33</th>\n",
       "      <td>Trinidad confirms first Zika case</td>\n",
       "      <td>Trinidad</td>\n",
       "      <td>Uruguay</td>\n",
       "      <td>-33.51650</td>\n",
       "      <td>-56.89957</td>\n",
       "    </tr>\n",
       "    <tr>\n",
       "      <th>20</th>\n",
       "      <td>Could Zika Reach New York City?</td>\n",
       "      <td>York</td>\n",
       "      <td>United States</td>\n",
       "      <td>39.96260</td>\n",
       "      <td>-76.72774</td>\n",
       "    </tr>\n",
       "    <tr>\n",
       "      <th>2</th>\n",
       "      <td>Dallas man comes down with case of Zika</td>\n",
       "      <td>Man</td>\n",
       "      <td>Ivory Coast</td>\n",
       "      <td>7.41251</td>\n",
       "      <td>-7.55383</td>\n",
       "    </tr>\n",
       "    <tr>\n",
       "      <th>24</th>\n",
       "      <td>Could Zika Reach New York City?</td>\n",
       "      <td>New York City</td>\n",
       "      <td>United States</td>\n",
       "      <td>40.71427</td>\n",
       "      <td>-74.00597</td>\n",
       "    </tr>\n",
       "    <tr>\n",
       "      <th>31</th>\n",
       "      <td>Dallas man comes down with case of Zika</td>\n",
       "      <td>Dallas</td>\n",
       "      <td>United States</td>\n",
       "      <td>32.78306</td>\n",
       "      <td>-96.80667</td>\n",
       "    </tr>\n",
       "    <tr>\n",
       "      <th>8</th>\n",
       "      <td>Zika Infested Monkeys in Sao Paulo</td>\n",
       "      <td>Mon</td>\n",
       "      <td>India</td>\n",
       "      <td>26.73583</td>\n",
       "      <td>95.05841</td>\n",
       "    </tr>\n",
       "    <tr>\n",
       "      <th>12</th>\n",
       "      <td>Zika Outbreak Hits Miami</td>\n",
       "      <td>Ami</td>\n",
       "      <td>Japan</td>\n",
       "      <td>36.03333</td>\n",
       "      <td>140.20000</td>\n",
       "    </tr>\n",
       "    <tr>\n",
       "      <th>26</th>\n",
       "      <td>Zika Outbreak Hits Miami</td>\n",
       "      <td>Brea</td>\n",
       "      <td>United States</td>\n",
       "      <td>33.91668</td>\n",
       "      <td>-117.90006</td>\n",
       "    </tr>\n",
       "    <tr>\n",
       "      <th>21</th>\n",
       "      <td>Dallas man comes down with case of Zika</td>\n",
       "      <td>Dallas</td>\n",
       "      <td>United States</td>\n",
       "      <td>32.78306</td>\n",
       "      <td>-96.80667</td>\n",
       "    </tr>\n",
       "    <tr>\n",
       "      <th>11</th>\n",
       "      <td>Mystery Virus Spreads in Recife, Brazil</td>\n",
       "      <td>Bra</td>\n",
       "      <td>Italy</td>\n",
       "      <td>44.69776</td>\n",
       "      <td>7.85128</td>\n",
       "    </tr>\n",
       "  </tbody>\n",
       "</table>\n",
       "</div>"
      ],
      "text/plain": [
       "                                  Headlines         Cities      Countries  \\\n",
       "33        Trinidad confirms first Zika case       Trinidad        Uruguay   \n",
       "20          Could Zika Reach New York City?           York  United States   \n",
       "2   Dallas man comes down with case of Zika            Man    Ivory Coast   \n",
       "24          Could Zika Reach New York City?  New York City  United States   \n",
       "31  Dallas man comes down with case of Zika         Dallas  United States   \n",
       "8        Zika Infested Monkeys in Sao Paulo            Mon          India   \n",
       "12                 Zika Outbreak Hits Miami            Ami          Japan   \n",
       "26                 Zika Outbreak Hits Miami           Brea  United States   \n",
       "21  Dallas man comes down with case of Zika         Dallas  United States   \n",
       "11  Mystery Virus Spreads in Recife, Brazil            Bra          Italy   \n",
       "\n",
       "    Latitude  Longitude  \n",
       "33 -33.51650  -56.89957  \n",
       "20  39.96260  -76.72774  \n",
       "2    7.41251   -7.55383  \n",
       "24  40.71427  -74.00597  \n",
       "31  32.78306  -96.80667  \n",
       "8   26.73583   95.05841  \n",
       "12  36.03333  140.20000  \n",
       "26  33.91668 -117.90006  \n",
       "21  32.78306  -96.80667  \n",
       "11  44.69776    7.85128  "
      ]
     },
     "execution_count": 170,
     "metadata": {},
     "output_type": "execute_result"
    }
   ],
   "source": [
    "pd.DataFrame(df_dict).sample(10)"
   ]
  },
  {
   "cell_type": "code",
   "execution_count": 158,
   "metadata": {},
   "outputs": [
    {
     "data": {
      "text/plain": [
       "'Trinidad'"
      ]
     },
     "execution_count": 158,
     "metadata": {},
     "output_type": "execute_result"
    }
   ],
   "source": [
    "gc.get_cities().get(city_names['id'][idx]).get('name')"
   ]
  },
  {
   "cell_type": "code",
   "execution_count": 159,
   "metadata": {},
   "outputs": [
    {
     "data": {
      "text/plain": [
       "'BO'"
      ]
     },
     "execution_count": 159,
     "metadata": {},
     "output_type": "execute_result"
    }
   ],
   "source": [
    "gc.get_cities().get(city_names['id'][idx]).get('countrycode')"
   ]
  },
  {
   "cell_type": "code",
   "execution_count": 161,
   "metadata": {},
   "outputs": [
    {
     "data": {
      "text/plain": [
       "'Bolivia'"
      ]
     },
     "execution_count": 161,
     "metadata": {},
     "output_type": "execute_result"
    }
   ],
   "source": [
    "gc.get_countries().get('BO').get('name')"
   ]
  },
  {
   "cell_type": "code",
   "execution_count": 162,
   "metadata": {},
   "outputs": [
    {
     "data": {
      "text/plain": [
       "-14.83333"
      ]
     },
     "execution_count": 162,
     "metadata": {},
     "output_type": "execute_result"
    }
   ],
   "source": [
    "gc.get_cities().get(city_names['id'][idx]).get('latitude')"
   ]
  },
  {
   "cell_type": "code",
   "execution_count": null,
   "metadata": {},
   "outputs": [],
   "source": []
  }
 ],
 "metadata": {
  "kernelspec": {
   "display_name": "Python 3",
   "language": "python",
   "name": "python3"
  },
  "language_info": {
   "codemirror_mode": {
    "name": "ipython",
    "version": 3
   },
   "file_extension": ".py",
   "mimetype": "text/x-python",
   "name": "python",
   "nbconvert_exporter": "python",
   "pygments_lexer": "ipython3",
   "version": "3.7.8"
  }
 },
 "nbformat": 4,
 "nbformat_minor": 4
}
